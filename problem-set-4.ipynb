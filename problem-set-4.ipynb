{
 "cells": [
  {
   "cell_type": "markdown",
   "metadata": {},
   "source": [
    "Ethan Holleman\n",
    "\n",
    "# Problem 1"
   ]
  },
  {
   "cell_type": "code",
   "execution_count": 1,
   "metadata": {},
   "outputs": [],
   "source": [
    "import math, statistics\n",
    "import pandas as pd"
   ]
  },
  {
   "cell_type": "markdown",
   "metadata": {},
   "source": [
    "## Part A\n",
    "\n",
    "What is Ghost's breeding value?\n"
   ]
  },
  {
   "cell_type": "code",
   "execution_count": 2,
   "metadata": {},
   "outputs": [
    {
     "name": "stdout",
     "output_type": "stream",
     "text": [
      "Ghost breeding value estimate: -100\n"
     ]
    }
   ],
   "source": [
    "pop_mean = 900\n",
    "ghost_myw = 1200\n",
    "progeny_diff = 850 - pop_mean\n",
    "ghost_breeding_value = 2 * progeny_diff\n",
    "print('Ghost breeding value estimate:', ghost_breeding_value)\n",
    "\n",
    "# should be -100 lbs using 850"
   ]
  },
  {
   "cell_type": "markdown",
   "metadata": {},
   "source": [
    "## Part B\n",
    "\n",
    "One explanation for why Ghost could have had a high yearling weight but produce offspring with comparatively low mean yearling weight are temporary environmental effects which obscured the potentially positive effect Ghost would have had on yearling weight of his offspring. It is unlikely permanent environmental effects played as much of a factor as these effects could not be potentially attributed to effects specific to Ghost's offspring. \n",
    "Additionally, the yearling weight of Ghost's offspring may have been more greatly influence by inter and / or intra locus interactions; dominance or epistasis effects. These affects can be cumulatively summarized as the \"allele combination value\" and contribute to phenotype in a way that is independent of breeding value or environmental effects."
   ]
  },
  {
   "cell_type": "markdown",
   "metadata": {},
   "source": [
    "## Part C\n",
    "\n",
    "ACV = 0 \n",
    "\n",
    "P = M + BV + ACV + E\n",
    "\n",
    "1200 = 900 + 600 + 0 + E\n",
    "\n",
    "-300 = E"
   ]
  },
  {
   "cell_type": "markdown",
   "metadata": {},
   "source": [
    "# Problem 2"
   ]
  },
  {
   "cell_type": "markdown",
   "metadata": {},
   "source": [
    "## Part A"
   ]
  },
  {
   "cell_type": "code",
   "execution_count": 3,
   "metadata": {},
   "outputs": [],
   "source": [
    "HH_len, Hh_len, hh_len = 100, 100, 150\n",
    "H_freq = 0.6\n",
    "h_freq = 1 - H_freq\n",
    "len_dict = {'HH': HH_len, 'Hh': Hh_len, 'hh': hh_len}"
   ]
  },
  {
   "cell_type": "code",
   "execution_count": 4,
   "metadata": {},
   "outputs": [
    {
     "name": "stdout",
     "output_type": "stream",
     "text": [
      "0.36 0.48 0.16000000000000003\n"
     ]
    }
   ],
   "source": [
    "HH_freq = H_freq**2\n",
    "Hh_freq = 2 * H_freq * h_freq\n",
    "hh_freq = h_freq ** 2\n",
    "print(HH_freq, Hh_freq, hh_freq)\n",
    "assert sum((HH_freq, Hh_freq, hh_freq), 1)"
   ]
  },
  {
   "cell_type": "code",
   "execution_count": 5,
   "metadata": {},
   "outputs": [
    {
     "name": "stdout",
     "output_type": "stream",
     "text": [
      "Population mean:  108.0\n"
     ]
    }
   ],
   "source": [
    "population_mean = sum((HH_len * HH_freq, Hh_freq * Hh_len, hh_freq * hh_len))\n",
    "print('Population mean: ', population_mean)"
   ]
  },
  {
   "cell_type": "markdown",
   "metadata": {},
   "source": [
    "## Part B\n"
   ]
  },
  {
   "cell_type": "code",
   "execution_count": 6,
   "metadata": {},
   "outputs": [
    {
     "data": {
      "text/html": [
       "<div>\n",
       "<style scoped>\n",
       "    .dataframe tbody tr th:only-of-type {\n",
       "        vertical-align: middle;\n",
       "    }\n",
       "\n",
       "    .dataframe tbody tr th {\n",
       "        vertical-align: top;\n",
       "    }\n",
       "\n",
       "    .dataframe thead th {\n",
       "        text-align: right;\n",
       "    }\n",
       "</style>\n",
       "<table border=\"1\" class=\"dataframe\">\n",
       "  <thead>\n",
       "    <tr style=\"text-align: right;\">\n",
       "      <th></th>\n",
       "      <th>genotype</th>\n",
       "      <th>Genotypic Value</th>\n",
       "    </tr>\n",
       "  </thead>\n",
       "  <tbody>\n",
       "    <tr>\n",
       "      <th>0</th>\n",
       "      <td>HH</td>\n",
       "      <td>-8.0</td>\n",
       "    </tr>\n",
       "    <tr>\n",
       "      <th>1</th>\n",
       "      <td>Hh</td>\n",
       "      <td>-8.0</td>\n",
       "    </tr>\n",
       "    <tr>\n",
       "      <th>2</th>\n",
       "      <td>hh</td>\n",
       "      <td>42.0</td>\n",
       "    </tr>\n",
       "  </tbody>\n",
       "</table>\n",
       "</div>"
      ],
      "text/plain": [
       "  genotype  Genotypic Value\n",
       "0       HH             -8.0\n",
       "1       Hh             -8.0\n",
       "2       hh             42.0"
      ]
     },
     "execution_count": 6,
     "metadata": {},
     "output_type": "execute_result"
    }
   ],
   "source": [
    "table_GV = [\n",
    "    {'genotype': 'HH', 'Genotypic Value': HH_len - population_mean},\n",
    "    {'genotype': 'Hh', 'Genotypic Value': Hh_len - population_mean},\n",
    "    {'genotype': 'hh', 'Genotypic Value': hh_len - population_mean},\n",
    "]\n",
    "table_GV = pd.DataFrame(table_GV)\n",
    "table_GV"
   ]
  },
  {
   "cell_type": "markdown",
   "metadata": {},
   "source": [
    "## Part C"
   ]
  },
  {
   "cell_type": "code",
   "execution_count": 7,
   "metadata": {},
   "outputs": [],
   "source": [
    "HH_prog = {\n",
    "    'HH': H_freq,\n",
    "    'Hh': h_freq,\n",
    "    'hh': 0\n",
    "}\n",
    "\n",
    "Hh_prog = {\n",
    "    'HH': 0.5 * H_freq,\n",
    "    'Hh': (0.5 * h_freq) + (0.5 * H_freq),\n",
    "    'hh': 0.5 * h_freq\n",
    "}\n",
    "\n",
    "hh_prog = {\n",
    "    'HH': 0,\n",
    "    'Hh': H_freq,\n",
    "    'hh': h_freq\n",
    "}"
   ]
  },
  {
   "cell_type": "code",
   "execution_count": 8,
   "metadata": {},
   "outputs": [],
   "source": [
    "def prog_diff(pop_mean, prog, phenotype_dict):\n",
    "    return sum([val * phenotype_dict[key] for key, val in prog.items()]) - pop_mean\n",
    "\n",
    "\n",
    "HH_prog_diff = prog_diff(population_mean, HH_prog, len_dict)\n",
    "Hh_prog_diff = prog_diff(population_mean, Hh_prog, len_dict)\n",
    "hh_prog_diff = prog_diff(population_mean, hh_prog, len_dict)"
   ]
  },
  {
   "cell_type": "code",
   "execution_count": 9,
   "metadata": {},
   "outputs": [
    {
     "data": {
      "text/html": [
       "<div>\n",
       "<style scoped>\n",
       "    .dataframe tbody tr th:only-of-type {\n",
       "        vertical-align: middle;\n",
       "    }\n",
       "\n",
       "    .dataframe tbody tr th {\n",
       "        vertical-align: top;\n",
       "    }\n",
       "\n",
       "    .dataframe thead th {\n",
       "        text-align: right;\n",
       "    }\n",
       "</style>\n",
       "<table border=\"1\" class=\"dataframe\">\n",
       "  <thead>\n",
       "    <tr style=\"text-align: right;\">\n",
       "      <th></th>\n",
       "      <th>Genotype</th>\n",
       "      <th>Breeding Value</th>\n",
       "    </tr>\n",
       "  </thead>\n",
       "  <tbody>\n",
       "    <tr>\n",
       "      <th>0</th>\n",
       "      <td>HH</td>\n",
       "      <td>-16.0</td>\n",
       "    </tr>\n",
       "    <tr>\n",
       "      <th>1</th>\n",
       "      <td>Hh</td>\n",
       "      <td>4.0</td>\n",
       "    </tr>\n",
       "    <tr>\n",
       "      <th>2</th>\n",
       "      <td>Hh</td>\n",
       "      <td>24.0</td>\n",
       "    </tr>\n",
       "  </tbody>\n",
       "</table>\n",
       "</div>"
      ],
      "text/plain": [
       "  Genotype  Breeding Value\n",
       "0       HH           -16.0\n",
       "1       Hh             4.0\n",
       "2       Hh            24.0"
      ]
     },
     "execution_count": 9,
     "metadata": {},
     "output_type": "execute_result"
    }
   ],
   "source": [
    "table_BV = pd.DataFrame(\n",
    "    [\n",
    "        {'Genotype': 'HH', 'Breeding Value': HH_prog_diff*2},\n",
    "        {'Genotype': 'Hh', 'Breeding Value': Hh_prog_diff*2},\n",
    "        {'Genotype': 'Hh', 'Breeding Value': hh_prog_diff*2},\n",
    "    ]\n",
    ")\n",
    "table_BV"
   ]
  },
  {
   "cell_type": "markdown",
   "metadata": {},
   "source": [
    "## Part D\n",
    "\n",
    "If the frequency of the H allele increases to 0.8, then the frequency of h allele would decrease to 0.2. This would in turn effect the population mean which all other calculations are ultimately related to. Therefore *all* genotypic values can be expected to change."
   ]
  },
  {
   "cell_type": "markdown",
   "metadata": {},
   "source": [
    "# Problem 3\n",
    "\n",
    "PA stand for Producing Ability and can be thought of as the intrisitic capacity of an individual for production in the context of permeant eviornmental factors for repeated traits. This value considers the genotypic value of an individual and the permenant environmental effects acting on that indiviual. This metric is more useful when comparing individuals for production because an indiviudal with higher values will be less infulenced by temporary environmental effects. The breeding value is not considered outside of its context as part of the genotypic value because when assessing PA we are not typically interested in the capacity of that individual to produce high quality offspring. "
   ]
  },
  {
   "cell_type": "markdown",
   "metadata": {},
   "source": [
    "# Problem 4\n",
    "\n",
    "## Part A"
   ]
  },
  {
   "cell_type": "code",
   "execution_count": 10,
   "metadata": {},
   "outputs": [
    {
     "name": "stdout",
     "output_type": "stream",
     "text": [
      "Estimated mean: 100\n"
     ]
    }
   ],
   "source": [
    "obs = (95, 110, 105, 95, 95)\n",
    "est_mean = statistics.mean(obs)\n",
    "print('Estimated mean:', est_mean)"
   ]
  },
  {
   "cell_type": "markdown",
   "metadata": {},
   "source": [
    "## Part B"
   ]
  },
  {
   "cell_type": "code",
   "execution_count": 11,
   "metadata": {},
   "outputs": [
    {
     "name": "stdout",
     "output_type": "stream",
     "text": [
      "Estimated varience: 50 mm^2\n"
     ]
    }
   ],
   "source": [
    "est_var = statistics.variance(obs)\n",
    "print('Estimated varience:', est_var, 'mm^2')"
   ]
  },
  {
   "cell_type": "markdown",
   "metadata": {},
   "source": [
    "## Part C"
   ]
  },
  {
   "cell_type": "code",
   "execution_count": 12,
   "metadata": {},
   "outputs": [
    {
     "name": "stdout",
     "output_type": "stream",
     "text": [
      "Estimated standard deviation: 7.07\n"
     ]
    }
   ],
   "source": [
    "est_sd = statistics.stdev(obs)\n",
    "print('Estimated standard deviation:', round(est_sd, 2))"
   ]
  },
  {
   "cell_type": "markdown",
   "metadata": {},
   "source": [
    "# Question 5"
   ]
  },
  {
   "cell_type": "markdown",
   "metadata": {},
   "source": [
    "## Part A"
   ]
  },
  {
   "cell_type": "code",
   "execution_count": 13,
   "metadata": {},
   "outputs": [
    {
     "name": "stdout",
     "output_type": "stream",
     "text": [
      "Estimated h^2: 0.4\n"
     ]
    }
   ],
   "source": [
    "cov_bft = 20\n",
    "\n",
    "h2 = cov_bft / est_var  # covariance of breeding values / varience of phenotypic values\n",
    "print('Estimated h^2:', h2)"
   ]
  },
  {
   "cell_type": "markdown",
   "metadata": {},
   "source": [
    "## Part B"
   ]
  },
  {
   "cell_type": "code",
   "execution_count": 14,
   "metadata": {},
   "outputs": [
    {
     "name": "stdout",
     "output_type": "stream",
     "text": [
      "Predicted breeding value of young boar: 8.0\n"
     ]
    }
   ],
   "source": [
    "yb = 120\n",
    "bv_yb = (120 - est_mean) * h2\n",
    "print('Predicted breeding value of young boar:', bv_yb)"
   ]
  },
  {
   "cell_type": "markdown",
   "metadata": {},
   "source": [
    "# Question 6"
   ]
  },
  {
   "cell_type": "markdown",
   "metadata": {},
   "source": [
    "## Part A"
   ]
  },
  {
   "cell_type": "code",
   "execution_count": 15,
   "metadata": {},
   "outputs": [
    {
     "name": "stdout",
     "output_type": "stream",
     "text": [
      "Champ expected breeding value: 4.0\n"
     ]
    }
   ],
   "source": [
    "ayw = 50  # lbs\n",
    "avh = 0.25  # average yearling heritibility\n",
    "br_br = 3.5  # best ram breeding value\n",
    "be_br = 4.5  # best ewe breeding value\n",
    "exp_br_champ = statistics.mean((br_br, be_br))\n",
    "print('Champ expected breeding value:', exp_br_champ)"
   ]
  },
  {
   "cell_type": "markdown",
   "metadata": {},
   "source": [
    "## Part B"
   ]
  },
  {
   "cell_type": "code",
   "execution_count": 16,
   "metadata": {},
   "outputs": [
    {
     "name": "stdout",
     "output_type": "stream",
     "text": [
      "Champ expected year weight: 54.0\n"
     ]
    }
   ],
   "source": [
    "exp_ph_champ = 50 + exp_br_champ\n",
    "print('Champ expected year weight:', exp_ph_champ)"
   ]
  },
  {
   "cell_type": "markdown",
   "metadata": {},
   "source": [
    "## Part C\n",
    "\n",
    "One explanation for Champ's lower than expected yearling weight could be that temporary environmental effects may be having a strong influence on phenotypes for yearling weight and therefore the breeding value of Champ's parents would have limited effect on Champ's actual phenotype.\n",
    "\n",
    "Another possible explanation is that the reproducibility of yearling weight is low. Reproducibility is defined as the ratio of variance in production ability over phenotypic variance. PA itself is composed of breeding value, allele combination value and permanent environmental effects. Since we know the breeding value of Champ's parents to be high compared to the population it may be the case that allele combination value is dominating, minimizing the influence of breeding value."
   ]
  },
  {
   "cell_type": "markdown",
   "metadata": {},
   "source": [
    "## Part D\n"
   ]
  },
  {
   "cell_type": "code",
   "execution_count": 17,
   "metadata": {},
   "outputs": [
    {
     "name": "stdout",
     "output_type": "stream",
     "text": [
      "Predicted Champ breeding value for yearling weight: 1.5\n"
     ]
    }
   ],
   "source": [
    "champ_bv = (56 - 50) * avh\n",
    "print('Predicted Champ breeding value for yearling weight:', champ_bv)"
   ]
  },
  {
   "cell_type": "markdown",
   "metadata": {},
   "source": [
    "# Question 7"
   ]
  },
  {
   "cell_type": "markdown",
   "metadata": {},
   "source": [
    "## Part A"
   ]
  },
  {
   "cell_type": "code",
   "execution_count": 18,
   "metadata": {},
   "outputs": [
    {
     "data": {
      "text/html": [
       "<div>\n",
       "<style scoped>\n",
       "    .dataframe tbody tr th:only-of-type {\n",
       "        vertical-align: middle;\n",
       "    }\n",
       "\n",
       "    .dataframe tbody tr th {\n",
       "        vertical-align: top;\n",
       "    }\n",
       "\n",
       "    .dataframe thead th {\n",
       "        text-align: right;\n",
       "    }\n",
       "</style>\n",
       "<table border=\"1\" class=\"dataframe\">\n",
       "  <thead>\n",
       "    <tr style=\"text-align: right;\">\n",
       "      <th></th>\n",
       "      <th>Cow</th>\n",
       "      <th>PA Milk</th>\n",
       "      <th>PA Fat content</th>\n",
       "    </tr>\n",
       "  </thead>\n",
       "  <tbody>\n",
       "    <tr>\n",
       "      <th>0</th>\n",
       "      <td>Terri</td>\n",
       "      <td>400.0</td>\n",
       "      <td>0.08</td>\n",
       "    </tr>\n",
       "    <tr>\n",
       "      <th>1</th>\n",
       "      <td>Sherry</td>\n",
       "      <td>200.0</td>\n",
       "      <td>0.16</td>\n",
       "    </tr>\n",
       "  </tbody>\n",
       "</table>\n",
       "</div>"
      ],
      "text/plain": [
       "      Cow  PA Milk  PA Fat content\n",
       "0   Terri    400.0            0.08\n",
       "1  Sherry    200.0            0.16"
      ]
     },
     "execution_count": 18,
     "metadata": {},
     "output_type": "execute_result"
    }
   ],
   "source": [
    "t_my = 2000  # lbs\n",
    "t_fc = 0.1  # percent\n",
    "s_my = 1000  # lbs\n",
    "s_fc = 0.2  # percent\n",
    "\n",
    "# repeatability\n",
    "r_my = 0.2\n",
    "r_fc = 0.8\n",
    "\n",
    "t_pa_milk, t_pa_fat = t_my * r_my, t_fc * r_fc\n",
    "s_pa_milk, s_pa_fat = s_my * r_my, s_fc * r_fc\n",
    "\n",
    "table = [\n",
    "    {'Cow': 'Terri', 'PA Milk': t_pa_milk, 'PA Fat content': t_pa_fat},\n",
    "     {'Cow': 'Sherry', 'PA Milk': s_pa_milk, 'PA Fat content': s_pa_fat}\n",
    "]\n",
    "pd.DataFrame(table)"
   ]
  },
  {
   "cell_type": "markdown",
   "metadata": {},
   "source": [
    "## Part B\n",
    "\n",
    "I am more confident that Sherry is the better fat content producer because repeatibility is much higher for percent fat content, meaning that previous measures of milk fat content for a given cow should be more predictive of future milk fact content when compared to milk yield. Since we are only making one observation in time, we are more confident that our single observation is more representative of all possible observations when the reproducibility is higher. \n"
   ]
  },
  {
   "cell_type": "markdown",
   "metadata": {},
   "source": [
    "## Part C\n",
    "\n",
    "\\begin{equation}\n",
    "\\sigma^2_{pa} = \\sigma^2_{bv} + \\sigma^2_{acv} + \\sigma^2_{ep}\n",
    "\\end{equation}"
   ]
  },
  {
   "cell_type": "markdown",
   "metadata": {},
   "source": [
    "\\begin{equation}\n",
    "\\sigma^2_{g} = \\sigma^2_{bv} + \\sigma^2_{acv}\n",
    "\\end{equation}"
   ]
  },
  {
   "cell_type": "markdown",
   "metadata": {},
   "source": [
    "\\begin{equation}\n",
    "\\sigma^2_{ep} = 0\n",
    "\\end{equation}"
   ]
  },
  {
   "cell_type": "markdown",
   "metadata": {},
   "source": [
    "\\begin{equation}\n",
    "\\sigma^2_{pa} = \\sigma^2_{bv} + \\sigma^2_{acv} + 0\n",
    "\\end{equation}"
   ]
  },
  {
   "cell_type": "markdown",
   "metadata": {},
   "source": [
    "\\begin{equation}\n",
    "\\sigma^2_{g} = \\sigma^2_{pa}\n",
    "\\end{equation}"
   ]
  },
  {
   "cell_type": "markdown",
   "metadata": {},
   "source": [
    "If milk production and fat content were not influenced by permanent environmental effects then broad sense heritability would equal reproducibility. Therefore broad sense heritability would be 0.2 and 0.8 for milk production and milk fat percentage respectively. "
   ]
  }
 ],
 "metadata": {
  "kernelspec": {
   "display_name": "Python 3.8.5 64-bit ('fucking_around': conda)",
   "language": "python",
   "name": "python38564bitfuckingaroundconda8a4235598cb646d081b266c9bf95f8ed"
  },
  "language_info": {
   "codemirror_mode": {
    "name": "ipython",
    "version": 3
   },
   "file_extension": ".py",
   "mimetype": "text/x-python",
   "name": "python",
   "nbconvert_exporter": "python",
   "pygments_lexer": "ipython3",
   "version": "3.8.5"
  },
  "metadata": {
   "interpreter": {
    "hash": "cc95a05ee292c3c2f964fc78598572f76787e7a8096f8ebf0be25011483d6eb7"
   }
  }
 },
 "nbformat": 4,
 "nbformat_minor": 2
}
